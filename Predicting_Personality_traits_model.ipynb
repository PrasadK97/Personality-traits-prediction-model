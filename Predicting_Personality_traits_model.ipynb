{
  "nbformat": 4,
  "nbformat_minor": 0,
  "metadata": {
    "colab": {
      "provenance": []
    },
    "kernelspec": {
      "name": "python3",
      "display_name": "Python 3"
    },
    "language_info": {
      "name": "python"
    }
  },
  "cells": [
    {
      "cell_type": "code",
      "execution_count": null,
      "metadata": {
        "id": "UgcjlbU1cIP4"
      },
      "outputs": [],
      "source": [
        "\n",
        "import numpy as np\n",
        "import pandas as pd\n",
        "\n",
        "\"\"\"Loading the Data Set\"\"\"\n",
        "\n",
        "data_raw=pd.read_csv(\"/content/data-final.csv\",sep='\\t')\n",
        "data_raw.head()\n",
        "\n",
        "data = data_raw.copy()\n",
        "pd.options.display.max_columns = 150\n",
        "data.drop(data.columns[50:107], axis=1, inplace=True)\n",
        "data.drop(data.columns[51:], axis=1, inplace=True)\n",
        "data.drop(data.index[701:],axis=0,inplace=True)\n",
        "print('Number of participants: ', len(data))\n",
        "data.head()\n",
        "\n",
        "\"\"\"Cleaning the Data Set\"\"\"\n",
        "\n",
        "print('Any missing value? \\n ', data.isnull().values.any())\n",
        "print('No. of missing values? \\n ', data.isnull().values.sum())\n",
        "data.dropna(inplace=True)\n",
        "print('Number of participants after eliminating missing values? \\n ', len(data))\n",
        "\n",
        "\"\"\"Groups and Questions\n",
        "\n",
        "\n",
        "---\n",
        "\n",
        "\n",
        "EXT - Questions to measure Extroversion.\n",
        "\n",
        "EST - Questions to measure Neuroticism\n",
        "\n",
        "AGR - Questions to measure Agreeableness\n",
        "\n",
        "CSN - Questions to measure Conscientiousness\n",
        "\n",
        "OPN - Questions to measure Openness to Experience\n",
        "\n",
        "\"\"\"\n",
        "\n",
        "ext_questions = {'EXT1' : 'I am the life of the party',\n",
        "                 'EXT2' : 'I dont talk a lot',\n",
        "                 'EXT3' : 'I feel comfortable around people',\n",
        "                 'EXT4' : 'I keep in the background',\n",
        "                 'EXT5' : 'I start conversations',\n",
        "                 'EXT6' : 'I have little to say',\n",
        "                 'EXT7' : 'I talk to a lot of different people at parties',\n",
        "                 'EXT8' : 'I dont like to draw attention to myself',\n",
        "                 'EXT9' : 'I dont mind being the center of attention',\n",
        "                 'EXT10' : 'I am quiet around strangers'}\n",
        "\n",
        "est_questions = {'EST1' : 'I get stressed out easily',\n",
        "                 'EST2' : 'I am relaxed most of the time',\n",
        "                 'EST3' : 'I worry about things',\n",
        "                 'EST4' : 'I seldom feel blue',\n",
        "                 'EST5' : 'I am easily disturbed',\n",
        "                 'EST6' : 'I get upset easily',\n",
        "                 'EST7' : 'I change my mood a lot',\n",
        "                 'EST8' : 'I have frequent mood swings',\n",
        "                 'EST9' : 'I get irritated easily',\n",
        "                 'EST10': 'I often feel blue'}\n",
        "\n",
        "agr_questions = {'AGR1' : 'I feel little concern for others',\n",
        "                 'AGR2' : 'I am interested in people',\n",
        "                 'AGR3' : 'I insult people',\n",
        "                 'AGR4' : 'I sympathize with others feelings',\n",
        "                 'AGR5' : 'I am not interested in other peoples problems',\n",
        "                 'AGR6' : 'I have a soft heart',\n",
        "                 'AGR7' : 'I am not really interested in others',\n",
        "                 'AGR8' : 'I take time out for others',\n",
        "                 'AGR9' : 'I feel others emotions',\n",
        "                 'AGR10': 'I make people feel at ease'}\n",
        "\n",
        "csn_questions = {'CSN1' : 'I am always prepared',\n",
        "                 'CSN2' : 'I leave my belongings around',\n",
        "                 'CSN3' : 'I pay attention to details',\n",
        "                 'CSN4' : 'I make a mess of things',\n",
        "                 'CSN5' : 'I get chores done right away',\n",
        "                 'CSN6' : 'I often forget to put things back in their proper place',\n",
        "                 'CSN7' : 'I like order',\n",
        "                 'CSN8' : 'I shirk my duties',\n",
        "                 'CSN9' : 'I follow a schedule',\n",
        "                'CSN10' : 'I am exacting in my work'}\n",
        "\n",
        "opn_questions = {'OPN1' : 'I have a rich vocabulary',\n",
        "                 'OPN2' : 'I have difficulty understanding abstract ideas',\n",
        "                 'OPN3' : 'I have a vivid imagination',\n",
        "                 'OPN4' : 'I am not interested in abstract ideas',\n",
        "                 'OPN5' : 'I have excellent ideas',\n",
        "                 'OPN6' : 'I do not have a good imagination',\n",
        "                 'OPN7' : 'I am quick to understand things',\n",
        "                 'OPN8' : 'I use difficult words',\n",
        "                 'OPN9' : 'I spend time reflecting on things',\n",
        "                 'OPN10': 'I am full of ideas'}\n",
        "\n",
        "# Group Names and Columns\n",
        "EXT = [column for column in data if column.startswith('EXT')]\n",
        "EST = [column for column in data if column.startswith('EST')]\n",
        "AGR = [column for column in data if column.startswith('AGR')]\n",
        "CSN = [column for column in data if column.startswith('CSN')]\n",
        "OPN = [column for column in data if column.startswith('OPN')]\n"
      ]
    },
    {
      "cell_type": "code",
      "source": [
        "\"\"\"To visualize the questions and answers\"\"\"\n",
        "\n",
        "from matplotlib import pyplot as plt\n",
        "def vis_questions(groupname, questions, color):\n",
        "    plt.figure(figsize=(60,60))\n",
        "    for i in range(0,9):\n",
        "        plt.subplot(10,3,i+1)\n",
        "        plt.hist(data[groupname[i]], bins=20, color= color, alpha=.5)\n",
        "        plt.title(questions[groupname[i]], fontsize=38)\n",
        "\n",
        "print('Q&As Related to Extroversion Personality \\n')\n",
        "vis_questions(EXT, ext_questions, '#00447C')\n",
        "\n",
        "print('Q&As Related to Neuroticism Personality \\n')\n",
        "vis_questions(EST, est_questions, 'blue')\n",
        "\n",
        "print('Q&As Related to Agreeableness Personality \\n')\n",
        "vis_questions(AGR, agr_questions, 'red')\n",
        "\n",
        "print('Q&As Related to Conscientious Personality \\n')\n",
        "vis_questions(CSN, csn_questions, '#7C2D00')\n",
        "\n",
        "print('Q&As Related to Openness to Experience Personality \\n')\n",
        "vis_questions(OPN, opn_questions, 'purple')\n"
      ],
      "metadata": {
        "id": "QDR0umcaceG7"
      },
      "execution_count": null,
      "outputs": []
    },
    {
      "cell_type": "code",
      "source": [
        "\"\"\"Scaling data using MinMax Scaler\"\"\"\n",
        "\n",
        "# For ease of calculation lets scale all the values between 0-1\n",
        "from sklearn.preprocessing import MinMaxScaler\n",
        "\n",
        "df = data.drop('country', axis=1)\n",
        "columns = list(df.columns)\n",
        "\n",
        "scaler = MinMaxScaler(feature_range=(0,1))\n",
        "df = scaler.fit_transform(df)\n",
        "df = pd.DataFrame(df, columns=columns)\n",
        "df_sample = df[:5000]\n"
      ],
      "metadata": {
        "id": "f9Ca3Y-YcamB"
      },
      "execution_count": null,
      "outputs": []
    },
    {
      "cell_type": "code",
      "source": [
        "\"\"\"Finding the value of K using elbow method\"\"\"\n",
        "\n",
        "# Visualize the elbow\n",
        "from sklearn.cluster import KMeans\n",
        "from yellowbrick.cluster import KElbowVisualizer\n",
        "\n",
        "kmeans = KMeans()\n",
        "visualizer = KElbowVisualizer(kmeans, k=(2,15))\n",
        "visualizer.fit(df_sample)\n",
        "visualizer.poof()\n"
      ],
      "metadata": {
        "id": "ufwMH28rcLvs"
      },
      "execution_count": null,
      "outputs": []
    },
    {
      "cell_type": "code",
      "source": [],
      "metadata": {
        "id": "vmcazoi_caHN"
      },
      "execution_count": null,
      "outputs": []
    },
    {
      "cell_type": "code",
      "source": [
        "\"\"\"Training the Model using KMeans Clustering\"\"\"\n",
        "\n",
        "# Creating K-means Cluster Model\n",
        "from sklearn.cluster import KMeans\n",
        "\n",
        "df_model = data.drop('country', axis=1)\n",
        "\n",
        "kmeans = KMeans(n_clusters=5)\n",
        "k_fit = kmeans.fit(df_model)\n",
        "\n",
        "# Predicting the Clusters\n",
        "pd.options.display.max_columns = 10\n",
        "\n",
        "#labels_ is used to identify Labels of each point\n",
        "predictions = k_fit.labels_\n",
        "df_model['Clusters'] = predictions\n",
        "df_model.head(10)\n",
        "\n",
        "df_model.Clusters.value_counts()\n"
      ],
      "metadata": {
        "id": "RIzqYPyecLxh"
      },
      "execution_count": null,
      "outputs": []
    },
    {
      "cell_type": "code",
      "source": [
        "\"\"\"Grouping results into clusters\"\"\"\n",
        "\n",
        "pd.options.display.max_columns = 150\n",
        "df_model.groupby('Clusters').mean()\n",
        "\n",
        "col_list = list(df_model)\n",
        "ext = col_list[0:10]\n",
        "est = col_list[10:20]\n",
        "agr = col_list[20:30]\n",
        "csn = col_list[30:40]\n",
        "opn = col_list[40:50]\n",
        "\n",
        "data_sums = pd.DataFrame()\n",
        "data_sums['extroversion'] = df_model[ext].sum(axis=1)/10\n",
        "data_sums['neurotic'] = df_model[est].sum(axis=1)/10\n",
        "data_sums['agreeable'] = df_model[agr].sum(axis=1)/10\n",
        "data_sums['conscientious'] = df_model[csn].sum(axis=1)/10\n",
        "data_sums['openness'] = df_model[opn].sum(axis=1)/10\n",
        "data_sums['clusters'] = predictions\n",
        "data_sums.groupby('clusters').mean()\n",
        "\n",
        "dataclusters = data_sums.groupby('clusters').mean()\n",
        "plt.figure(figsize=(22,3))\n",
        "for i in range(0, 5):\n",
        "    plt.subplot(1,5,i+1)\n",
        "    plt.bar(dataclusters.columns, dataclusters.iloc[:, i], color='green', alpha=0.2)\n",
        "    plt.plot(dataclusters.columns, dataclusters.iloc[:, i], color='red')\n",
        "    plt.title('Cluster ' + str(i))\n",
        "    plt.xticks(rotation=45)\n",
        "    plt.ylim(0,4);\n"
      ],
      "metadata": {
        "id": "QNM3B3PycLzi"
      },
      "execution_count": null,
      "outputs": []
    },
    {
      "cell_type": "code",
      "source": [
        "# In order to visualize in 2D graph I will use PCA\n",
        "from sklearn.decomposition import PCA\n",
        "\n",
        "pca = PCA(n_components=2)\n",
        "pca_fit = pca.fit_transform(df_model)\n",
        "\n",
        "df_pca = pd.DataFrame(data=pca_fit, columns=['PCA1', 'PCA2'])\n",
        "df_pca['Clusters'] = predictions\n",
        "df_pca.head()\n",
        "\n",
        "import seaborn as sns\n",
        "plt.figure(figsize=(10,10))\n",
        "sns.scatterplot(data=df_pca, x='PCA1', y='PCA2', hue='Clusters', palette='Set2', alpha=0.9)\n",
        "plt.title('Personality Clusters after PCA')"
      ],
      "metadata": {
        "id": "7H_4MB9OcL1o"
      },
      "execution_count": null,
      "outputs": []
    },
    {
      "cell_type": "code",
      "source": [
        "\"\"\"Testing data\"\"\"\n",
        "\n",
        "my_data = pd.read_excel('/content/test_data.xlsx')\n",
        "my_data\n",
        "\n",
        "my_personality = k_fit.predict(my_data)\n",
        "print('My Personality Cluster: ', my_personality)\n"
      ],
      "metadata": {
        "id": "k6HKPiGFcL3f"
      },
      "execution_count": null,
      "outputs": []
    },
    {
      "cell_type": "code",
      "source": [
        "# Summing up the my question groups\n",
        "col_list = list(my_data)\n",
        "ext = col_list[0:10]\n",
        "est = col_list[10:20]\n",
        "agr = col_list[20:30]\n",
        "csn = col_list[30:40]\n",
        "opn = col_list[40:50]\n",
        "\n",
        "my_sums = pd.DataFrame()\n",
        "my_sums['extroversion'] = my_data[ext].sum(axis=1)/10\n",
        "my_sums['neurotic'] = my_data[est].sum(axis=1)/10\n",
        "my_sums['agreeable'] = my_data[agr].sum(axis=1)/10\n",
        "my_sums['conscientious'] = my_data[csn].sum(axis=1)/10\n",
        "my_sums['open'] = my_data[opn].sum(axis=1)/10\n",
        "my_sums['cluster'] = my_personality\n",
        "\n",
        "my_sums\n"
      ],
      "metadata": {
        "id": "Ft_DYxAzcL5p"
      },
      "execution_count": null,
      "outputs": []
    },
    {
      "cell_type": "code",
      "source": [
        "\"\"\"Visualizing the Prediction\"\"\"\n",
        "\n",
        "my_sum = my_sums.drop('cluster', axis=1)\n",
        "plt.bar(my_sum.columns, my_sum.iloc[0,:], color='green', alpha=0.2)\n",
        "plt.plot(my_sum.columns, my_sum.iloc[0,:], color='red')\n",
        "plt.title('Cluster %d'%(my_personality))\n",
        "plt.xticks(rotation=45)\n",
        "plt.ylim(0,4);"
      ],
      "metadata": {
        "id": "8ETWqO5ccL9x"
      },
      "execution_count": null,
      "outputs": []
    }
  ]
}